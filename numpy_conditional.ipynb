{
 "cells": [
  {
   "cell_type": "code",
   "execution_count": 1,
   "id": "9c4ac492",
   "metadata": {},
   "outputs": [],
   "source": [
    "#Conditional logic in array"
   ]
  },
  {
   "cell_type": "code",
   "execution_count": 2,
   "id": "01c8e6ca",
   "metadata": {},
   "outputs": [],
   "source": [
    "import numpy as np"
   ]
  },
  {
   "cell_type": "code",
   "execution_count": 3,
   "id": "3569fb66",
   "metadata": {},
   "outputs": [],
   "source": [
    "x=np.array([x for x in range(10)])"
   ]
  },
  {
   "cell_type": "code",
   "execution_count": 4,
   "id": "b9b6d60c",
   "metadata": {},
   "outputs": [
    {
     "data": {
      "text/plain": [
       "array([0, 1, 2, 3, 4, 5, 6, 7, 8, 9])"
      ]
     },
     "execution_count": 4,
     "metadata": {},
     "output_type": "execute_result"
    }
   ],
   "source": [
    "x"
   ]
  },
  {
   "cell_type": "code",
   "execution_count": 5,
   "id": "a2fa212b",
   "metadata": {},
   "outputs": [
    {
     "data": {
      "text/plain": [
       "array(['Even', 'Odd', 'Even', 'Odd', 'Even', 'Odd', 'Even', 'Odd', 'Even',\n",
       "       'Odd'], dtype='<U4')"
      ]
     },
     "execution_count": 5,
     "metadata": {},
     "output_type": "execute_result"
    }
   ],
   "source": [
    "np.where(x%2==0,'Even','Odd')"
   ]
  },
  {
   "cell_type": "code",
   "execution_count": 6,
   "id": "9bafdd6f",
   "metadata": {},
   "outputs": [],
   "source": [
    "#numpy select"
   ]
  },
  {
   "cell_type": "code",
   "execution_count": 31,
   "id": "05ea7297",
   "metadata": {},
   "outputs": [],
   "source": [
    "condlist = [x<5,x>5]\n",
    "choicelist = [x**2,x**3]"
   ]
  },
  {
   "cell_type": "code",
   "execution_count": 32,
   "id": "f64d7dc5",
   "metadata": {},
   "outputs": [
    {
     "data": {
      "text/plain": [
       "array(['0', '1', '4', '9', '16', 'Not satisfied', '216', '343', '512',\n",
       "       '729'], dtype='<U13')"
      ]
     },
     "execution_count": 32,
     "metadata": {},
     "output_type": "execute_result"
    }
   ],
   "source": [
    "np.select(condlist,choicelist,default='Not satisfied')"
   ]
  },
  {
   "cell_type": "code",
   "execution_count": 34,
   "id": "de741dd5",
   "metadata": {},
   "outputs": [],
   "source": [
    "########Other functions in numpy"
   ]
  },
  {
   "cell_type": "code",
   "execution_count": 35,
   "id": "a15d0b7e",
   "metadata": {},
   "outputs": [],
   "source": [
    "#statical functions\n",
    "#amin\n",
    "#max\n",
    "#amax\n",
    "#median\n",
    "#mean\n",
    "#std\n",
    "#var\n",
    "#percentile\n"
   ]
  },
  {
   "cell_type": "code",
   "execution_count": 36,
   "id": "0700246c",
   "metadata": {},
   "outputs": [],
   "source": [
    "#mathematical functions\n",
    "#sin\n",
    "#cos\n",
    "#tan\n",
    "#inverse of trigo\n",
    "#floor\n",
    "#ceil"
   ]
  },
  {
   "cell_type": "code",
   "execution_count": null,
   "id": "601d4977",
   "metadata": {},
   "outputs": [],
   "source": []
  }
 ],
 "metadata": {
  "kernelspec": {
   "display_name": "Python 3 (ipykernel)",
   "language": "python",
   "name": "python3"
  },
  "language_info": {
   "codemirror_mode": {
    "name": "ipython",
    "version": 3
   },
   "file_extension": ".py",
   "mimetype": "text/x-python",
   "name": "python",
   "nbconvert_exporter": "python",
   "pygments_lexer": "ipython3",
   "version": "3.11.5"
  }
 },
 "nbformat": 4,
 "nbformat_minor": 5
}
