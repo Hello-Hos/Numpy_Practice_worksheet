{
 "cells": [
  {
   "cell_type": "code",
   "execution_count": 1,
   "id": "e3d79e38-45f2-4dd0-ae1f-afab144ebad0",
   "metadata": {
    "tags": []
   },
   "outputs": [],
   "source": [
    "#shape manipulation"
   ]
  },
  {
   "cell_type": "code",
   "execution_count": 3,
   "id": "ebfd8282-f605-4ca6-8f5b-1c24598fbbc0",
   "metadata": {
    "tags": []
   },
   "outputs": [],
   "source": [
    "import numpy as np"
   ]
  },
  {
   "cell_type": "code",
   "execution_count": 4,
   "id": "63918dc8-fe5c-48b0-a59b-84e4b62e46aa",
   "metadata": {
    "tags": []
   },
   "outputs": [],
   "source": [
    "new_cyclist_trials=np.array([[10,15,17,26,13,19],[12,11,21,24,14,23]])"
   ]
  },
  {
   "cell_type": "code",
   "execution_count": 5,
   "id": "77ef6f7e-1ee0-43c7-919e-76e55b7fca43",
   "metadata": {
    "tags": []
   },
   "outputs": [
    {
     "data": {
      "text/plain": [
       "array([10, 15, 17, 26, 13, 19, 12, 11, 21, 24, 14, 23])"
      ]
     },
     "execution_count": 5,
     "metadata": {},
     "output_type": "execute_result"
    }
   ],
   "source": [
    "new_cyclist_trials.ravel()  #flatten the dataset"
   ]
  },
  {
   "cell_type": "code",
   "execution_count": 7,
   "id": "61490657-cba8-4537-afe6-0c2944f82c87",
   "metadata": {
    "tags": []
   },
   "outputs": [
    {
     "data": {
      "text/plain": [
       "array([[10, 15, 17, 26],\n",
       "       [13, 19, 12, 11],\n",
       "       [21, 24, 14, 23]])"
      ]
     },
     "execution_count": 7,
     "metadata": {},
     "output_type": "execute_result"
    }
   ],
   "source": [
    "new_cyclist_trials.reshape(3,4) #changes or reshapes the dataset to 3 rows and 4 columns"
   ]
  },
  {
   "cell_type": "code",
   "execution_count": 8,
   "id": "ac1707a0-58e6-4ce4-9c4e-abd757d918d9",
   "metadata": {
    "tags": []
   },
   "outputs": [],
   "source": [
    "new_cyclist_trials.resize(2,6) #resize again to 2 rows and  6 columns"
   ]
  },
  {
   "cell_type": "code",
   "execution_count": 9,
   "id": "fb196f73-6bec-4398-99bf-d752899eb8cb",
   "metadata": {
    "tags": []
   },
   "outputs": [
    {
     "data": {
      "text/plain": [
       "array([[10, 15, 17, 26, 13, 19],\n",
       "       [12, 11, 21, 24, 14, 23]])"
      ]
     },
     "execution_count": 9,
     "metadata": {},
     "output_type": "execute_result"
    }
   ],
   "source": [
    "new_cyclist_trials"
   ]
  },
  {
   "cell_type": "code",
   "execution_count": 10,
   "id": "15e49181-570f-4753-967b-2ea2c573dbc1",
   "metadata": {
    "tags": []
   },
   "outputs": [
    {
     "data": {
      "text/plain": [
       "[array([[10, 15, 17],\n",
       "        [12, 11, 21]]),\n",
       " array([[26, 13, 19],\n",
       "        [24, 14, 23]])]"
      ]
     },
     "execution_count": 10,
     "metadata": {},
     "output_type": "execute_result"
    }
   ],
   "source": [
    "np.hsplit(new_cyclist_trials,2) #splits the array into two"
   ]
  },
  {
   "cell_type": "code",
   "execution_count": 11,
   "id": "1f605112-07ba-4a0f-98b0-52c6227935d9",
   "metadata": {
    "tags": []
   },
   "outputs": [],
   "source": [
    "new_cyclist_1=np.array([10,15,17,26,13,19])"
   ]
  },
  {
   "cell_type": "code",
   "execution_count": 12,
   "id": "a7c4aaa0-d46d-46b6-a749-57afb4c646d5",
   "metadata": {
    "tags": []
   },
   "outputs": [],
   "source": [
    "new_cyclist_2=np.array([12,11,21,24,14,23])"
   ]
  },
  {
   "cell_type": "code",
   "execution_count": 15,
   "id": "a225d546-783c-426e-943f-d50fd3f6b845",
   "metadata": {
    "tags": []
   },
   "outputs": [
    {
     "data": {
      "text/plain": [
       "array([10, 15, 17, 26, 13, 19, 12, 11, 21, 24, 14, 23])"
      ]
     },
     "execution_count": 15,
     "metadata": {},
     "output_type": "execute_result"
    }
   ],
   "source": [
    "np.hstack((new_cyclist_1,new_cyclist_2)) #stacks the array together"
   ]
  },
  {
   "cell_type": "code",
   "execution_count": null,
   "id": "a7d90583-f8bf-4aed-bb92-b5b90529f0bd",
   "metadata": {},
   "outputs": [],
   "source": []
  }
 ],
 "metadata": {
  "kernelspec": {
   "display_name": "Python 3 (ipykernel)",
   "language": "python",
   "name": "python3"
  },
  "language_info": {
   "codemirror_mode": {
    "name": "ipython",
    "version": 3
   },
   "file_extension": ".py",
   "mimetype": "text/x-python",
   "name": "python",
   "nbconvert_exporter": "python",
   "pygments_lexer": "ipython3",
   "version": "3.11.5"
  }
 },
 "nbformat": 4,
 "nbformat_minor": 5
}
