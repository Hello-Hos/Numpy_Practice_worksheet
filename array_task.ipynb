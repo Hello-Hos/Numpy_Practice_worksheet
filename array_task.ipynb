{
 "cells": [
  {
   "cell_type": "code",
   "execution_count": 1,
   "id": "7d8cc3bd-b75b-47e5-af88-071563da3ffd",
   "metadata": {
    "tags": []
   },
   "outputs": [],
   "source": [
    "#Create a 1D array with alias as np and perform the following methods\n",
    "#1.np.zeros()\n",
    "#2.np.ones()\n",
    "#3.np.empty()\n",
    "#4.np.arrange()\n",
    "#5.np.reshape()\n",
    "#6.np.linespace()"
   ]
  },
  {
   "cell_type": "code",
   "execution_count": 2,
   "id": "c3cbeab4-8cc0-4e5c-9498-197722b80ceb",
   "metadata": {
    "tags": []
   },
   "outputs": [],
   "source": [
    "import numpy as np"
   ]
  },
  {
   "cell_type": "code",
   "execution_count": 3,
   "id": "17d7d6c2-42a5-46e8-886a-0851aae14860",
   "metadata": {
    "tags": []
   },
   "outputs": [],
   "source": [
    "first_numpy_array=np.array([1,2,3,4])"
   ]
  },
  {
   "cell_type": "code",
   "execution_count": 5,
   "id": "6972eadb-1822-4301-8970-4d42b3d94264",
   "metadata": {
    "tags": []
   },
   "outputs": [
    {
     "name": "stdout",
     "output_type": "stream",
     "text": [
      "[1 2 3 4]\n"
     ]
    }
   ],
   "source": [
    "print(first_numpy_array)"
   ]
  },
  {
   "cell_type": "code",
   "execution_count": 6,
   "id": "e5b6aab7-0710-4eb3-a70e-c325eab76841",
   "metadata": {
    "tags": []
   },
   "outputs": [
    {
     "data": {
      "text/plain": [
       "array([[0., 0., 0.],\n",
       "       [0., 0., 0.],\n",
       "       [0., 0., 0.]])"
      ]
     },
     "execution_count": 6,
     "metadata": {},
     "output_type": "execute_result"
    }
   ],
   "source": [
    "array_with_zeros=np.zeros((3,3))\n",
    "array_with_zeros"
   ]
  },
  {
   "cell_type": "code",
   "execution_count": 9,
   "id": "4b8dba83-91a5-4740-a709-0cc22ee0674b",
   "metadata": {
    "tags": []
   },
   "outputs": [
    {
     "data": {
      "text/plain": [
       "array([[1., 1., 1.],\n",
       "       [1., 1., 1.],\n",
       "       [1., 1., 1.]])"
      ]
     },
     "execution_count": 9,
     "metadata": {},
     "output_type": "execute_result"
    }
   ],
   "source": [
    "ones=np.ones((3,3))\n",
    "ones"
   ]
  },
  {
   "cell_type": "code",
   "execution_count": 11,
   "id": "38c30231-3db5-4678-ac8a-f91da6385986",
   "metadata": {
    "tags": []
   },
   "outputs": [
    {
     "data": {
      "text/plain": [
       "array([[6.23042070e-307, 1.33512376e-306, 1.11261230e-306],\n",
       "       [7.56577399e-307, 9.34600963e-307, 1.05699581e-307]])"
      ]
     },
     "execution_count": 11,
     "metadata": {},
     "output_type": "execute_result"
    }
   ],
   "source": [
    "empty=np.empty((2,3))\n",
    "empty"
   ]
  },
  {
   "cell_type": "code",
   "execution_count": 17,
   "id": "25d66e7c-c343-4b34-a714-72208628b01d",
   "metadata": {
    "tags": []
   },
   "outputs": [
    {
     "data": {
      "text/plain": [
       "array([ 0,  1,  2,  3,  4,  5,  6,  7,  8,  9, 10, 11])"
      ]
     },
     "execution_count": 17,
     "metadata": {},
     "output_type": "execute_result"
    }
   ],
   "source": [
    "arange=np.arange(12)\n",
    "arange"
   ]
  },
  {
   "cell_type": "code",
   "execution_count": 22,
   "id": "21103c2a-b7ed-4fc1-87cf-2af3f516315b",
   "metadata": {
    "tags": []
   },
   "outputs": [
    {
     "data": {
      "text/plain": [
       "array([1.  , 2.25, 3.5 , 4.75, 6.  ])"
      ]
     },
     "execution_count": 22,
     "metadata": {},
     "output_type": "execute_result"
    }
   ],
   "source": [
    "linspace=np.linspace(1,6,5)\n",
    "linspace"
   ]
  },
  {
   "cell_type": "code",
   "execution_count": 23,
   "id": "36211f54-f98d-4a02-ad55-dc077b1df21f",
   "metadata": {
    "tags": []
   },
   "outputs": [
    {
     "data": {
      "text/plain": [
       "array([ 0,  1,  2,  3,  4,  5,  6,  7,  8,  9, 10, 11, 12, 13, 14])"
      ]
     },
     "execution_count": 23,
     "metadata": {},
     "output_type": "execute_result"
    }
   ],
   "source": [
    "one_d_array=np.arange(15)\n",
    "one_d_array"
   ]
  },
  {
   "cell_type": "code",
   "execution_count": 24,
   "id": "5316c88b-8abf-428e-9ad2-9bac6f483421",
   "metadata": {
    "tags": []
   },
   "outputs": [],
   "source": [
    "two_d_array=one_d_array.reshape(3,5)  #1d array to 2d array"
   ]
  },
  {
   "cell_type": "code",
   "execution_count": 25,
   "id": "369c77d3-0288-498c-963a-9502458b2450",
   "metadata": {
    "tags": []
   },
   "outputs": [
    {
     "data": {
      "text/plain": [
       "array([[ 0,  1,  2,  3,  4],\n",
       "       [ 5,  6,  7,  8,  9],\n",
       "       [10, 11, 12, 13, 14]])"
      ]
     },
     "execution_count": 25,
     "metadata": {},
     "output_type": "execute_result"
    }
   ],
   "source": [
    "two_d_array"
   ]
  },
  {
   "cell_type": "code",
   "execution_count": 26,
   "id": "5939001e-529c-4eef-a7a3-8929041986da",
   "metadata": {
    "tags": []
   },
   "outputs": [],
   "source": [
    "three_d_array=np.arange(27).reshape(3,3,3)  #1d array to 3d array"
   ]
  },
  {
   "cell_type": "code",
   "execution_count": 27,
   "id": "c5d969fb-59f8-41a4-8e27-a6c4d2dabb32",
   "metadata": {
    "tags": []
   },
   "outputs": [
    {
     "data": {
      "text/plain": [
       "array([[[ 0,  1,  2],\n",
       "        [ 3,  4,  5],\n",
       "        [ 6,  7,  8]],\n",
       "\n",
       "       [[ 9, 10, 11],\n",
       "        [12, 13, 14],\n",
       "        [15, 16, 17]],\n",
       "\n",
       "       [[18, 19, 20],\n",
       "        [21, 22, 23],\n",
       "        [24, 25, 26]]])"
      ]
     },
     "execution_count": 27,
     "metadata": {},
     "output_type": "execute_result"
    }
   ],
   "source": [
    "three_d_array"
   ]
  },
  {
   "cell_type": "code",
   "execution_count": null,
   "id": "2b1e96f2-f27e-494c-9d0f-c20308485729",
   "metadata": {},
   "outputs": [],
   "source": []
  }
 ],
 "metadata": {
  "kernelspec": {
   "display_name": "Python 3 (ipykernel)",
   "language": "python",
   "name": "python3"
  },
  "language_info": {
   "codemirror_mode": {
    "name": "ipython",
    "version": 3
   },
   "file_extension": ".py",
   "mimetype": "text/x-python",
   "name": "python",
   "nbconvert_exporter": "python",
   "pygments_lexer": "ipython3",
   "version": "3.11.5"
  }
 },
 "nbformat": 4,
 "nbformat_minor": 5
}
